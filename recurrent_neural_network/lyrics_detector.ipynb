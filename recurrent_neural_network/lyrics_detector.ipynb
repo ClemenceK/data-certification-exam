{
 "cells": [
  {
   "cell_type": "markdown",
   "metadata": {},
   "source": [
    "# Lyrics detector Challenge\n",
    "\n",
    "The goal for this challenge is to leverage your knowledge of Deep Learning to design and train a lyrics classifier. For a given verse $X$, our model should learn to predict the artist $y$. The dataset consists of lyrics scrapped from the Genius website.\n",
    "\n",
    "### Objectives:\n",
    "- Text preprocessing\n",
    "- Text embedding\n",
    "- Train a RNN to detect the artist behind a set of lyrics"
   ]
  },
  {
   "cell_type": "code",
   "execution_count": 44,
   "metadata": {
    "ExecuteTime": {
     "end_time": "2021-06-29T10:38:41.663549Z",
     "start_time": "2021-06-29T10:38:41.657536Z"
    }
   },
   "outputs": [],
   "source": [
    "import numpy as np\n",
    "import pandas as pd\n",
    "import matplotlib.pyplot as plt\n",
    "import seaborn as sns\n",
    "\n",
    "import tensorflow as tf"
   ]
  },
  {
   "cell_type": "markdown",
   "metadata": {},
   "source": [
    "## 1. Data Cleaning\n",
    "\n",
    "Our dataset contains around 4,000 verses of lyrics from different artists: Drake, Ed Sheeran and Kanye West (the verses are given in this order)."
   ]
  },
  {
   "cell_type": "code",
   "execution_count": 45,
   "metadata": {
    "ExecuteTime": {
     "end_time": "2021-06-29T10:38:43.242931Z",
     "start_time": "2021-06-29T10:38:42.864900Z"
    }
   },
   "outputs": [
    {
     "data": {
      "text/plain": [
       "(3975,\n",
       "           artist                                              verse\n",
       " 0          Drake                            Ayy, woah Ayy, ayy Yeah\n",
       " 1          Drake  I'm makin' a change today The liquor been taki...\n",
       " 2          Drake  I can't just be with you and only you Yeah, I ...\n",
       " 3          Drake  Well, summer, all I did was rest, okay? And Ne...\n",
       " 4          Drake  I'm makin' a change today The liquor been taki...\n",
       " ...          ...                                                ...\n",
       " 3970  Kanye West  Dame was like, \"Yo you got a deal with Capitol...\n",
       " 3971  Kanye West  Then one day I just went ahead and played it, ...\n",
       " 3972  Kanye West             \"I ain't gonna front, it's kinda hot.\"\n",
       " 3973  Kanye West  Like they still weren't looking at me like a r...\n",
       " 3974  Kanye West  \"You gotta be under an umbrella, you'll get ra...\n",
       " \n",
       " [3975 rows x 2 columns])"
      ]
     },
     "execution_count": 45,
     "metadata": {},
     "output_type": "execute_result"
    }
   ],
   "source": [
    "raw_data = pd.read_csv(\"https://wagon-public-datasets.s3.amazonaws.com/certification_france_2021_q2/verses.csv\")\n",
    "data = raw_data.copy() # From now on, update `data` as you see fit and don't touch raw_data\n",
    "len(data), data"
   ]
  },
  {
   "cell_type": "markdown",
   "metadata": {},
   "source": [
    "❓ **Have a look at the verse index 18th**. \n",
    "- What do you observe?\n",
    "- Clean verses from non standard characters using [`unidecode.unidecode()`](https://pypi.org/project/Unidecode/)"
   ]
  },
  {
   "cell_type": "code",
   "execution_count": 46,
   "metadata": {
    "ExecuteTime": {
     "end_time": "2021-06-29T10:38:44.391747Z",
     "start_time": "2021-06-29T10:38:44.384223Z"
    },
    "tags": [
     "challengify"
    ]
   },
   "outputs": [
    {
     "data": {
      "text/plain": [
       "'Ayy, yeah Pipe this shit up and I turn this shit up When I was down, I\\u2005was\\u2005down Now them diamonds\\u2005for fun like damn Ayy, yeah'"
      ]
     },
     "execution_count": 46,
     "metadata": {},
     "output_type": "execute_result"
    }
   ],
   "source": [
    "data.iloc[18]['verse']\n",
    "\n"
   ]
  },
  {
   "cell_type": "code",
   "execution_count": 47,
   "metadata": {
    "ExecuteTime": {
     "end_time": "2021-06-29T10:38:44.973452Z",
     "start_time": "2021-06-29T10:38:44.968520Z"
    }
   },
   "outputs": [],
   "source": [
    "import unidecode\n",
    "\n",
    "def clean_non_std(verse):\n",
    "    return unidecode.unidecode(verse)"
   ]
  },
  {
   "cell_type": "code",
   "execution_count": 48,
   "metadata": {
    "ExecuteTime": {
     "end_time": "2021-06-29T10:38:45.178834Z",
     "start_time": "2021-06-29T10:38:45.169701Z"
    }
   },
   "outputs": [
    {
     "data": {
      "text/plain": [
       "'Ayy, yeah Pipe this shit up and I turn this shit up When I was down, I was down Now them diamonds for fun like damn Ayy, yeah'"
      ]
     },
     "execution_count": 48,
     "metadata": {},
     "output_type": "execute_result"
    }
   ],
   "source": [
    "clean_non_std(data.iloc[18]['verse'])"
   ]
  },
  {
   "cell_type": "code",
   "execution_count": 49,
   "metadata": {
    "ExecuteTime": {
     "end_time": "2021-06-29T10:38:45.849593Z",
     "start_time": "2021-06-29T10:38:45.663251Z"
    }
   },
   "outputs": [],
   "source": [
    "data['preprocessed_verse'] = data['verse'].apply(clean_non_std)"
   ]
  },
  {
   "cell_type": "code",
   "execution_count": 50,
   "metadata": {
    "ExecuteTime": {
     "end_time": "2021-06-29T10:38:45.923588Z",
     "start_time": "2021-06-29T10:38:45.912357Z"
    }
   },
   "outputs": [
    {
     "data": {
      "text/plain": [
       "'Ayy, yeah Pipe this shit up and I turn this shit up When I was down, I was down Now them diamonds for fun like damn Ayy, yeah'"
      ]
     },
     "execution_count": 50,
     "metadata": {},
     "output_type": "execute_result"
    }
   ],
   "source": [
    "data.iloc[18]['preprocessed_verse']\n"
   ]
  },
  {
   "cell_type": "markdown",
   "metadata": {},
   "source": [
    "❓ **Check if some verses are duplicated.** \n",
    "- It can be frequent in music lyrics.\n",
    "- If so, remove them to avoid data leaks between train and test sets"
   ]
  },
  {
   "cell_type": "code",
   "execution_count": 51,
   "metadata": {
    "ExecuteTime": {
     "end_time": "2021-06-29T10:38:46.342260Z",
     "start_time": "2021-06-29T10:38:46.310949Z"
    },
    "tags": [
     "challengify"
    ]
   },
   "outputs": [
    {
     "name": "stdout",
     "output_type": "stream",
     "text": [
      "Dropped 935 duplicates\n"
     ]
    }
   ],
   "source": [
    "before = len(data)\n",
    "data = data.drop_duplicates()\n",
    "after = len(data)\n",
    "print(f\"Dropped {before-after} duplicates\")"
   ]
  },
  {
   "cell_type": "code",
   "execution_count": 52,
   "metadata": {
    "ExecuteTime": {
     "end_time": "2021-06-29T10:38:46.861610Z",
     "start_time": "2021-06-29T10:38:46.855974Z"
    }
   },
   "outputs": [],
   "source": [
    "from nbresult import ChallengeResult\n",
    "result = ChallengeResult(\n",
    "    'data_loading',\n",
    "    shape=data.shape,\n",
    "    verses=data.verse[:50]\n",
    ")\n",
    "\n",
    "result.write()"
   ]
  },
  {
   "cell_type": "markdown",
   "metadata": {},
   "source": [
    "## 2. Data Analysis (given to you)"
   ]
  },
  {
   "cell_type": "markdown",
   "metadata": {},
   "source": [
    "👉 **We check the number of unique artist and the number of verses per artist**"
   ]
  },
  {
   "cell_type": "code",
   "execution_count": 53,
   "metadata": {
    "ExecuteTime": {
     "end_time": "2021-06-29T10:38:48.410076Z",
     "start_time": "2021-06-29T10:38:48.401271Z"
    }
   },
   "outputs": [
    {
     "data": {
      "text/plain": [
       "Drake         1394\n",
       "Ed Sheeran     867\n",
       "Kanye West     779\n",
       "Name: artist, dtype: int64"
      ]
     },
     "execution_count": 53,
     "metadata": {},
     "output_type": "execute_result"
    }
   ],
   "source": [
    "data.artist.value_counts()"
   ]
  },
  {
   "cell_type": "markdown",
   "metadata": {},
   "source": [
    "👉 **For each artist, let's have a look at the top-10 most used words to see if they look similar?**\n",
    "\n",
    "We'll use Tensorflow's [`Tokenizer`](https://www.tensorflow.org/api_docs/python/tf/keras/preprocessing/text/Tokenizer)'s index_word"
   ]
  },
  {
   "cell_type": "code",
   "execution_count": 54,
   "metadata": {
    "ExecuteTime": {
     "end_time": "2021-06-29T10:38:49.434236Z",
     "start_time": "2021-06-29T10:38:49.424221Z"
    }
   },
   "outputs": [],
   "source": [
    "drake = data[data.artist =='Drake'].verse\n",
    "ed = data[data.artist =='Ed Sheeran'].verse\n",
    "kanye = data[data.artist =='Kanye West'].verse"
   ]
  },
  {
   "cell_type": "code",
   "execution_count": 55,
   "metadata": {
    "ExecuteTime": {
     "end_time": "2021-06-29T10:38:49.850667Z",
     "start_time": "2021-06-29T10:38:49.842577Z"
    }
   },
   "outputs": [
    {
     "data": {
      "text/plain": [
       "0                                 Ayy, woah Ayy, ayy Yeah\n",
       "1       I'm makin' a change today The liquor been taki...\n",
       "2       I can't just be with you and only you Yeah, I ...\n",
       "3       Well, summer, all I did was rest, okay? And Ne...\n",
       "4       I'm makin' a change today The liquor been taki...\n",
       "                              ...                        \n",
       "1668    Yeah, yeah Before he knew, he had a crew that ...\n",
       "1669    And so they kick, push, kick, push Kick, push,...\n",
       "1670    Welcome ladies and gentlemen to our annual rec...\n",
       "1671    Put the Jamie Foxx on them! I won’t be able to...\n",
       "1672    Hey! What did I tell you about playing bad not...\n",
       "Name: verse, Length: 1394, dtype: object"
      ]
     },
     "execution_count": 55,
     "metadata": {},
     "output_type": "execute_result"
    }
   ],
   "source": [
    "drake"
   ]
  },
  {
   "cell_type": "code",
   "execution_count": 56,
   "metadata": {
    "ExecuteTime": {
     "end_time": "2021-06-29T10:38:50.785069Z",
     "start_time": "2021-06-29T10:38:50.490047Z"
    }
   },
   "outputs": [],
   "source": [
    "tokenizer_drake = tf.keras.preprocessing.text.Tokenizer()\n",
    "tokenizer_ed = tf.keras.preprocessing.text.Tokenizer()\n",
    "tokenizer_kanye = tf.keras.preprocessing.text.Tokenizer()\n",
    "\n",
    "tokenizer_drake.fit_on_texts(drake)\n",
    "tokenizer_ed.fit_on_texts(ed)\n",
    "tokenizer_kanye.fit_on_texts(kanye)"
   ]
  },
  {
   "cell_type": "code",
   "execution_count": 57,
   "metadata": {
    "ExecuteTime": {
     "end_time": "2021-06-29T10:38:51.052296Z",
     "start_time": "2021-06-29T10:38:51.040715Z"
    }
   },
   "outputs": [
    {
     "data": {
      "text/plain": [
       "<keras_preprocessing.text.Tokenizer at 0x14e064c10>"
      ]
     },
     "execution_count": 57,
     "metadata": {},
     "output_type": "execute_result"
    }
   ],
   "source": [
    "tokenizer_drake"
   ]
  },
  {
   "cell_type": "code",
   "execution_count": 58,
   "metadata": {
    "ExecuteTime": {
     "end_time": "2021-06-29T10:38:51.491374Z",
     "start_time": "2021-06-29T10:38:51.458409Z"
    }
   },
   "outputs": [
    {
     "data": {
      "text/html": [
       "<div>\n",
       "<style scoped>\n",
       "    .dataframe tbody tr th:only-of-type {\n",
       "        vertical-align: middle;\n",
       "    }\n",
       "\n",
       "    .dataframe tbody tr th {\n",
       "        vertical-align: top;\n",
       "    }\n",
       "\n",
       "    .dataframe thead th {\n",
       "        text-align: right;\n",
       "    }\n",
       "</style>\n",
       "<table border=\"1\" class=\"dataframe\">\n",
       "  <thead>\n",
       "    <tr style=\"text-align: right;\">\n",
       "      <th></th>\n",
       "      <th>Drake</th>\n",
       "      <th>Ed Sheeran</th>\n",
       "      <th>Kanye West</th>\n",
       "    </tr>\n",
       "  </thead>\n",
       "  <tbody>\n",
       "    <tr>\n",
       "      <th>1</th>\n",
       "      <td>i</td>\n",
       "      <td>i</td>\n",
       "      <td>i</td>\n",
       "    </tr>\n",
       "    <tr>\n",
       "      <th>2</th>\n",
       "      <td>you</td>\n",
       "      <td>you</td>\n",
       "      <td>the</td>\n",
       "    </tr>\n",
       "    <tr>\n",
       "      <th>3</th>\n",
       "      <td>the</td>\n",
       "      <td>the</td>\n",
       "      <td>you</td>\n",
       "    </tr>\n",
       "    <tr>\n",
       "      <th>4</th>\n",
       "      <td>and</td>\n",
       "      <td>and</td>\n",
       "      <td>and</td>\n",
       "    </tr>\n",
       "    <tr>\n",
       "      <th>5</th>\n",
       "      <td>to</td>\n",
       "      <td>me</td>\n",
       "      <td>to</td>\n",
       "    </tr>\n",
       "    <tr>\n",
       "      <th>6</th>\n",
       "      <td>a</td>\n",
       "      <td>my</td>\n",
       "      <td>a</td>\n",
       "    </tr>\n",
       "    <tr>\n",
       "      <th>7</th>\n",
       "      <td>it</td>\n",
       "      <td>to</td>\n",
       "      <td>my</td>\n",
       "    </tr>\n",
       "    <tr>\n",
       "      <th>8</th>\n",
       "      <td>me</td>\n",
       "      <td>a</td>\n",
       "      <td>it</td>\n",
       "    </tr>\n",
       "    <tr>\n",
       "      <th>9</th>\n",
       "      <td>my</td>\n",
       "      <td>in</td>\n",
       "      <td>me</td>\n",
       "    </tr>\n",
       "    <tr>\n",
       "      <th>10</th>\n",
       "      <td>that</td>\n",
       "      <td>it</td>\n",
       "      <td>in</td>\n",
       "    </tr>\n",
       "  </tbody>\n",
       "</table>\n",
       "</div>"
      ],
      "text/plain": [
       "   Drake Ed Sheeran Kanye West\n",
       "1      i          i          i\n",
       "2    you        you        the\n",
       "3    the        the        you\n",
       "4    and        and        and\n",
       "5     to         me         to\n",
       "6      a         my          a\n",
       "7     it         to         my\n",
       "8     me          a         it\n",
       "9     my         in         me\n",
       "10  that         it         in"
      ]
     },
     "execution_count": 58,
     "metadata": {},
     "output_type": "execute_result"
    }
   ],
   "source": [
    "pd.DataFrame(data={\n",
    "    \"Drake\": pd.Series(tokenizer_drake.index_word)[:10],\n",
    "    \"Ed Sheeran\": pd.Series(tokenizer_ed.index_word)[:10],\n",
    "    \"Kanye West\": pd.Series(tokenizer_kanye.index_word)[:10],\n",
    "})"
   ]
  },
  {
   "cell_type": "markdown",
   "metadata": {},
   "source": [
    "👉 **Let's quantify how much vocabulary do they have in common**\n",
    "\n",
    "- An artist **vocabulary** is the **set** of all unique used words\n",
    "- We compute the `ratio` of (i) the length of vocabulary they **share**, over (ii) the length of the **total** vocabulary of the dataset\n",
    "\n",
    "<details>\n",
    "    <summary>Hints</summary>\n",
    "\n",
    "We'll use Python [`set.intersection()`](https://www.programiz.com/python-programming/methods/set/intersection) and [`set.union()`](https://www.programiz.com/python-programming/methods/set/union)\n",
    "</details>"
   ]
  },
  {
   "cell_type": "code",
   "execution_count": 59,
   "metadata": {
    "ExecuteTime": {
     "end_time": "2021-06-29T10:38:52.271624Z",
     "start_time": "2021-06-29T10:38:52.265378Z"
    }
   },
   "outputs": [],
   "source": [
    "drake_vocabulary = set(tokenizer_drake.index_word.values())\n",
    "ed_vocabulary = set(tokenizer_ed.index_word.values())\n",
    "kanye_vocabulary = set(tokenizer_kanye.index_word.values())"
   ]
  },
  {
   "cell_type": "code",
   "execution_count": 60,
   "metadata": {
    "ExecuteTime": {
     "end_time": "2021-06-29T10:38:52.690854Z",
     "start_time": "2021-06-29T10:38:52.682461Z"
    }
   },
   "outputs": [
    {
     "name": "stdout",
     "output_type": "stream",
     "text": [
      "14.92% of the artists' vocabulary is common\n"
     ]
    }
   ],
   "source": [
    "common_vocabulary = drake_vocabulary.intersection(ed_vocabulary).intersection(kanye_vocabulary)\n",
    "global_vocabulary = drake_vocabulary.union(ed_vocabulary).union(kanye_vocabulary)\n",
    "\n",
    "ratio = len(common_vocabulary)/len(global_vocabulary)\n",
    "print(f\"{ratio*100:.2f}% of the artists' vocabulary is common\")"
   ]
  },
  {
   "cell_type": "markdown",
   "metadata": {},
   "source": [
    "## 3. Data Preprocessing"
   ]
  },
  {
   "cell_type": "markdown",
   "metadata": {},
   "source": [
    "### 3.1 Word Embedding\n",
    "We now need to think about embedding our sentences into numbers. We will be using [`gensim.models.Word2Vec`](https://radimrehurek.com/gensim/models/word2vec.html#gensim.models.word2vec.Word2Vec) to embed each word of the sentence and concatenate the embeddings of the words forming the sentence."
   ]
  },
  {
   "cell_type": "markdown",
   "metadata": {},
   "source": [
    "❓ **Transform the list of strings (verses) into a list of word sequences (a word sequence is a list of words contained in a string)**\n",
    "- Store these sequences of words in a new column `data[\"seq\"]` in your dataframe\n",
    "- You can use `tensorflow.keras.preprocessing.text.text_to_word_sequence` "
   ]
  },
  {
   "cell_type": "code",
   "execution_count": 61,
   "metadata": {
    "ExecuteTime": {
     "end_time": "2021-06-29T10:38:54.162568Z",
     "start_time": "2021-06-29T10:38:54.015780Z"
    },
    "tags": [
     "challengify"
    ]
   },
   "outputs": [
    {
     "name": "stderr",
     "output_type": "stream",
     "text": [
      "/Users/admin/.pyenv/versions/3.8.5/envs/deep4deep/envs/general_purpose/lib/python3.8/site-packages/pandas/core/indexing.py:1597: SettingWithCopyWarning: \n",
      "A value is trying to be set on a copy of a slice from a DataFrame.\n",
      "Try using .loc[row_indexer,col_indexer] = value instead\n",
      "\n",
      "See the caveats in the documentation: https://pandas.pydata.org/pandas-docs/stable/user_guide/indexing.html#returning-a-view-versus-a-copy\n",
      "  self.obj[key] = value\n",
      "/Users/admin/.pyenv/versions/3.8.5/envs/deep4deep/envs/general_purpose/lib/python3.8/site-packages/numpy/core/_asarray.py:83: VisibleDeprecationWarning: Creating an ndarray from ragged nested sequences (which is a list-or-tuple of lists-or-tuples-or ndarrays with different lengths or shapes) is deprecated. If you meant to do this, you must specify 'dtype=object' when creating the ndarray\n",
      "  return array(a, dtype, copy=False, order=order)\n",
      "/Users/admin/.pyenv/versions/3.8.5/envs/deep4deep/envs/general_purpose/lib/python3.8/site-packages/pandas/core/indexing.py:1676: SettingWithCopyWarning: \n",
      "A value is trying to be set on a copy of a slice from a DataFrame.\n",
      "Try using .loc[row_indexer,col_indexer] = value instead\n",
      "\n",
      "See the caveats in the documentation: https://pandas.pydata.org/pandas-docs/stable/user_guide/indexing.html#returning-a-view-versus-a-copy\n",
      "  self._setitem_single_column(ilocs[0], value, pi)\n"
     ]
    }
   ],
   "source": [
    "from tensorflow.keras.preprocessing.text import text_to_word_sequence\n",
    "\n",
    "data.loc[:,\"seq\"] = [text_to_word_sequence(_) for _ in data.loc[:,'preprocessed_verse']]"
   ]
  },
  {
   "cell_type": "markdown",
   "metadata": {},
   "source": [
    "❓ **Let's check if we can cap the length of each sequences without losing too much information**\n",
    "- Plot the distribution of sequences lengths using the [`seaborn.kdeplot`](https://seaborn.pydata.org/generated/seaborn.displot.html#seaborn-displot) function\n",
    "- Does it seem reasonable to limit ourself to 300 words per verse later on? "
   ]
  },
  {
   "cell_type": "code",
   "execution_count": 73,
   "metadata": {
    "ExecuteTime": {
     "end_time": "2021-06-29T10:42:01.714748Z",
     "start_time": "2021-06-29T10:42:01.708500Z"
    },
    "tags": [
     "challengify"
    ]
   },
   "outputs": [],
   "source": [
    "lengths = data.seq.apply(len)"
   ]
  },
  {
   "cell_type": "code",
   "execution_count": 74,
   "metadata": {
    "ExecuteTime": {
     "end_time": "2021-06-29T10:42:02.897264Z",
     "start_time": "2021-06-29T10:42:02.659257Z"
    },
    "tags": [
     "challengify"
    ]
   },
   "outputs": [
    {
     "data": {
      "text/plain": [
       "<AxesSubplot:xlabel='seq', ylabel='Density'>"
      ]
     },
     "execution_count": 74,
     "metadata": {},
     "output_type": "execute_result"
    },
    {
     "data": {
      "image/png": "[encoded data removed]",
      "text/plain": [
       "<Figure size 432x288 with 1 Axes>"
      ]
     },
     "metadata": {
      "needs_background": "light"
     },
     "output_type": "display_data"
    }
   ],
   "source": [
    "sns.kdeplot(lengths)\n",
    "# Why negative lenghts? \n"
   ]
  },
  {
   "cell_type": "code",
   "execution_count": 75,
   "metadata": {
    "ExecuteTime": {
     "end_time": "2021-06-29T10:42:05.305462Z",
     "start_time": "2021-06-29T10:42:05.294657Z"
    }
   },
   "outputs": [
    {
     "data": {
      "text/plain": [
       "1"
      ]
     },
     "execution_count": 75,
     "metadata": {},
     "output_type": "execute_result"
    }
   ],
   "source": [
    "len(data.iloc[lengths.argmin()].seq)\n",
    "# OK no neg length, just smoothing of the curve"
   ]
  },
  {
   "cell_type": "markdown",
   "metadata": {},
   "source": [
    "❓ **Keep only the first `300` words of each sequences to reduce the useless long tail of long verses**"
   ]
  },
  {
   "cell_type": "code",
   "execution_count": 65,
   "metadata": {
    "ExecuteTime": {
     "end_time": "2021-06-29T10:39:18.156253Z",
     "start_time": "2021-06-29T10:39:18.136317Z"
    },
    "tags": [
     "challengify"
    ]
   },
   "outputs": [
    {
     "name": "stderr",
     "output_type": "stream",
     "text": [
      "<ipython-input-65-3328a3fbc1eb>:1: SettingWithCopyWarning: \n",
      "A value is trying to be set on a copy of a slice from a DataFrame.\n",
      "Try using .loc[row_indexer,col_indexer] = value instead\n",
      "\n",
      "See the caveats in the documentation: https://pandas.pydata.org/pandas-docs/stable/user_guide/indexing.html#returning-a-view-versus-a-copy\n",
      "  data['seq'] = data.seq.apply(lambda x: x[:300])\n"
     ]
    }
   ],
   "source": [
    "data['seq'] = data.seq.apply(lambda x: x[:300])"
   ]
  },
  {
   "cell_type": "code",
   "execution_count": 66,
   "metadata": {
    "ExecuteTime": {
     "end_time": "2021-06-29T10:39:24.380259Z",
     "start_time": "2021-06-29T10:39:24.121482Z"
    }
   },
   "outputs": [
    {
     "data": {
      "text/plain": [
       "<AxesSubplot:xlabel='seq', ylabel='Density'>"
      ]
     },
     "execution_count": 66,
     "metadata": {},
     "output_type": "execute_result"
    },
    {
     "data": {
      "image/png": "[encoded data removed]",
      "text/plain": [
       "<Figure size 432x288 with 1 Axes>"
      ]
     },
     "metadata": {
      "needs_background": "light"
     },
     "output_type": "display_data"
    }
   ],
   "source": [
    "\n",
    "sns.kdeplot(data.seq.apply(len))"
   ]
  },
  {
   "cell_type": "markdown",
   "metadata": {},
   "source": [
    "❓ **Train a `gensim.models.Word2Vec` model on your dataset** \n",
    "- You want to embed each word into vectors of dimension `100`\n",
    "- No words should be excluded\n",
    "- Give Word2Vec at least 50 epochs to be sure it converges\n",
    "- Store these lists of vectors in a new column `data[\"embed\"]`"
   ]
  },
  {
   "cell_type": "code",
   "execution_count": 32,
   "metadata": {
    "ExecuteTime": {
     "end_time": "2021-06-29T10:35:14.436131Z",
     "start_time": "2021-06-29T10:35:14.310126Z"
    },
    "tags": [
     "challengify"
    ]
   },
   "outputs": [
    {
     "name": "stderr",
     "output_type": "stream",
     "text": [
      "/Users/admin/.pyenv/versions/3.8.5/envs/deep4deep/envs/general_purpose/lib/python3.8/site-packages/gensim/similarities/__init__.py:15: UserWarning: The gensim.similarities.levenshtein submodule is disabled, because the optional Levenshtein package <https://pypi.org/project/python-Levenshtein/> is unavailable. Install Levenhstein (e.g. `pip install python-Levenshtein`) to suppress this warning.\n",
      "  warnings.warn(msg)\n"
     ]
    }
   ],
   "source": [
    "from gensim.models import Word2Vec"
   ]
  },
  {
   "cell_type": "code",
   "execution_count": 77,
   "metadata": {
    "ExecuteTime": {
     "end_time": "2021-06-29T10:47:57.244868Z",
     "start_time": "2021-06-29T10:47:56.207314Z"
    },
    "tags": [
     "challengify"
    ]
   },
   "outputs": [],
   "source": [
    "word2vec = Word2Vec(sentences=data.seq, window=5, vector_size=100)"
   ]
  },
  {
   "cell_type": "code",
   "execution_count": 85,
   "metadata": {
    "ExecuteTime": {
     "end_time": "2021-06-29T10:49:29.110545Z",
     "start_time": "2021-06-29T10:49:29.104206Z"
    }
   },
   "outputs": [
    {
     "data": {
      "text/plain": [
       "100"
      ]
     },
     "execution_count": 85,
     "metadata": {},
     "output_type": "execute_result"
    }
   ],
   "source": [
    "word2vec.vector_size"
   ]
  },
  {
   "cell_type": "code",
   "execution_count": 95,
   "metadata": {
    "ExecuteTime": {
     "end_time": "2021-06-29T10:51:29.156654Z",
     "start_time": "2021-06-29T10:51:29.150783Z"
    }
   },
   "outputs": [],
   "source": [
    "def embed_seq(seq):\n",
    "    embedded_sentence = []\n",
    "    for word in seq:\n",
    "        if word in word2vec.wv:  # au cas où X_test ait des nouveaux mots\n",
    "            vector = word2vec.wv.get_vector(word)  # ou word2vec.wv[word]\n",
    "            embedded_sentence.append(vector)\n",
    "    if len(embedded_sentence) == 0: \n",
    "    # au cas où tous les mots soient nouveaux!\n",
    "        embedded_sentence = [np.zeros(word2vec.vector_size)]\n",
    "    return embedded_sentence # ou np.array(result)"
   ]
  },
  {
   "cell_type": "code",
   "execution_count": 97,
   "metadata": {
    "ExecuteTime": {
     "end_time": "2021-06-29T10:51:35.000942Z",
     "start_time": "2021-06-29T10:51:34.214728Z"
    }
   },
   "outputs": [
    {
     "name": "stderr",
     "output_type": "stream",
     "text": [
      "/Users/admin/.pyenv/versions/3.8.5/envs/deep4deep/envs/general_purpose/lib/python3.8/site-packages/pandas/core/indexing.py:1676: SettingWithCopyWarning: \n",
      "A value is trying to be set on a copy of a slice from a DataFrame.\n",
      "Try using .loc[row_indexer,col_indexer] = value instead\n",
      "\n",
      "See the caveats in the documentation: https://pandas.pydata.org/pandas-docs/stable/user_guide/indexing.html#returning-a-view-versus-a-copy\n",
      "  self._setitem_single_column(ilocs[0], value, pi)\n"
     ]
    }
   ],
   "source": [
    "data.loc[:,'embed']= data['seq'].apply(embed_seq)"
   ]
  },
  {
   "cell_type": "code",
   "execution_count": 98,
   "metadata": {
    "ExecuteTime": {
     "end_time": "2021-06-29T10:51:41.311289Z",
     "start_time": "2021-06-29T10:51:39.789666Z"
    }
   },
   "outputs": [
    {
     "data": {
      "text/html": [
       "<div>\n",
       "<style scoped>\n",
       "    .dataframe tbody tr th:only-of-type {\n",
       "        vertical-align: middle;\n",
       "    }\n",
       "\n",
       "    .dataframe tbody tr th {\n",
       "        vertical-align: top;\n",
       "    }\n",
       "\n",
       "    .dataframe thead th {\n",
       "        text-align: right;\n",
       "    }\n",
       "</style>\n",
       "<table border=\"1\" class=\"dataframe\">\n",
       "  <thead>\n",
       "    <tr style=\"text-align: right;\">\n",
       "      <th></th>\n",
       "      <th>artist</th>\n",
       "      <th>verse</th>\n",
       "      <th>preprocessed_verse</th>\n",
       "      <th>seq</th>\n",
       "      <th>embed</th>\n",
       "    </tr>\n",
       "  </thead>\n",
       "  <tbody>\n",
       "    <tr>\n",
       "      <th>0</th>\n",
       "      <td>Drake</td>\n",
       "      <td>Ayy, woah Ayy, ayy Yeah</td>\n",
       "      <td>Ayy, woah Ayy, ayy Yeah</td>\n",
       "      <td>[ayy, woah, ayy, ayy, yeah]</td>\n",
       "      <td>[[0.28398263, 0.83930105, -0.4780515, -0.24111...</td>\n",
       "    </tr>\n",
       "    <tr>\n",
       "      <th>1</th>\n",
       "      <td>Drake</td>\n",
       "      <td>I'm makin' a change today The liquor been taki...</td>\n",
       "      <td>I'm makin' a change today The liquor been taki...</td>\n",
       "      <td>[i'm, makin', a, change, today, the, liquor, b...</td>\n",
       "      <td>[[0.22425504, -0.20273875, -0.7999428, 0.30299...</td>\n",
       "    </tr>\n",
       "    <tr>\n",
       "      <th>2</th>\n",
       "      <td>Drake</td>\n",
       "      <td>I can't just be with you and only you Yeah, I ...</td>\n",
       "      <td>I can't just be with you and only you Yeah, I ...</td>\n",
       "      <td>[i, can't, just, be, with, you, and, only, you...</td>\n",
       "      <td>[[0.00035037598, 0.63717, -0.2789135, 0.676622...</td>\n",
       "    </tr>\n",
       "    <tr>\n",
       "      <th>3</th>\n",
       "      <td>Drake</td>\n",
       "      <td>Well, summer, all I did was rest, okay? And Ne...</td>\n",
       "      <td>Well, summer, all I did was rest, okay? And Ne...</td>\n",
       "      <td>[well, summer, all, i, did, was, rest, okay, a...</td>\n",
       "      <td>[[0.10517484, 0.45802763, -0.38076177, 0.22243...</td>\n",
       "    </tr>\n",
       "    <tr>\n",
       "      <th>4</th>\n",
       "      <td>Drake</td>\n",
       "      <td>I'm makin' a change today The liquor been taki...</td>\n",
       "      <td>I'm makin' a change today The liquor been taki...</td>\n",
       "      <td>[i'm, makin', a, change, today, the, liquor, b...</td>\n",
       "      <td>[[0.22425504, -0.20273875, -0.7999428, 0.30299...</td>\n",
       "    </tr>\n",
       "    <tr>\n",
       "      <th>...</th>\n",
       "      <td>...</td>\n",
       "      <td>...</td>\n",
       "      <td>...</td>\n",
       "      <td>...</td>\n",
       "      <td>...</td>\n",
       "    </tr>\n",
       "    <tr>\n",
       "      <th>3970</th>\n",
       "      <td>Kanye West</td>\n",
       "      <td>Dame was like, \"Yo you got a deal with Capitol...</td>\n",
       "      <td>Dame was like, \"Yo you got a deal with Capitol...</td>\n",
       "      <td>[dame, was, like, yo, you, got, a, deal, with,...</td>\n",
       "      <td>[[0.012382422, 0.07412076, 0.017790478, 0.0432...</td>\n",
       "    </tr>\n",
       "    <tr>\n",
       "      <th>3971</th>\n",
       "      <td>Kanye West</td>\n",
       "      <td>Then one day I just went ahead and played it, ...</td>\n",
       "      <td>Then one day I just went ahead and played it, ...</td>\n",
       "      <td>[then, one, day, i, just, went, ahead, and, pl...</td>\n",
       "      <td>[[-0.026468778, 0.27968934, -0.17910102, 0.086...</td>\n",
       "    </tr>\n",
       "    <tr>\n",
       "      <th>3972</th>\n",
       "      <td>Kanye West</td>\n",
       "      <td>\"I ain't gonna front, it's kinda hot.\"</td>\n",
       "      <td>\"I ain't gonna front, it's kinda hot.\"</td>\n",
       "      <td>[i, ain't, gonna, front, it's, kinda, hot]</td>\n",
       "      <td>[[0.00035037598, 0.63717, -0.2789135, 0.676622...</td>\n",
       "    </tr>\n",
       "    <tr>\n",
       "      <th>3973</th>\n",
       "      <td>Kanye West</td>\n",
       "      <td>Like they still weren't looking at me like a r...</td>\n",
       "      <td>Like they still weren't looking at me like a r...</td>\n",
       "      <td>[like, they, still, weren't, looking, at, me, ...</td>\n",
       "      <td>[[0.12370775, 0.25256673, 0.03595994, 0.050488...</td>\n",
       "    </tr>\n",
       "    <tr>\n",
       "      <th>3974</th>\n",
       "      <td>Kanye West</td>\n",
       "      <td>\"You gotta be under an umbrella, you'll get ra...</td>\n",
       "      <td>\"You gotta be under an umbrella, you'll get ra...</td>\n",
       "      <td>[you, gotta, be, under, an, umbrella, you'll, ...</td>\n",
       "      <td>[[0.22821628, 0.41886184, -0.6214825, 0.633893...</td>\n",
       "    </tr>\n",
       "  </tbody>\n",
       "</table>\n",
       "<p>3040 rows × 5 columns</p>\n",
       "</div>"
      ],
      "text/plain": [
       "          artist                                              verse  \\\n",
       "0          Drake                            Ayy, woah Ayy, ayy Yeah   \n",
       "1          Drake  I'm makin' a change today The liquor been taki...   \n",
       "2          Drake  I can't just be with you and only you Yeah, I ...   \n",
       "3          Drake  Well, summer, all I did was rest, okay? And Ne...   \n",
       "4          Drake  I'm makin' a change today The liquor been taki...   \n",
       "...          ...                                                ...   \n",
       "3970  Kanye West  Dame was like, \"Yo you got a deal with Capitol...   \n",
       "3971  Kanye West  Then one day I just went ahead and played it, ...   \n",
       "3972  Kanye West             \"I ain't gonna front, it's kinda hot.\"   \n",
       "3973  Kanye West  Like they still weren't looking at me like a r...   \n",
       "3974  Kanye West  \"You gotta be under an umbrella, you'll get ra...   \n",
       "\n",
       "                                     preprocessed_verse  \\\n",
       "0                               Ayy, woah Ayy, ayy Yeah   \n",
       "1     I'm makin' a change today The liquor been taki...   \n",
       "2     I can't just be with you and only you Yeah, I ...   \n",
       "3     Well, summer, all I did was rest, okay? And Ne...   \n",
       "4     I'm makin' a change today The liquor been taki...   \n",
       "...                                                 ...   \n",
       "3970  Dame was like, \"Yo you got a deal with Capitol...   \n",
       "3971  Then one day I just went ahead and played it, ...   \n",
       "3972             \"I ain't gonna front, it's kinda hot.\"   \n",
       "3973  Like they still weren't looking at me like a r...   \n",
       "3974  \"You gotta be under an umbrella, you'll get ra...   \n",
       "\n",
       "                                                    seq  \\\n",
       "0                           [ayy, woah, ayy, ayy, yeah]   \n",
       "1     [i'm, makin', a, change, today, the, liquor, b...   \n",
       "2     [i, can't, just, be, with, you, and, only, you...   \n",
       "3     [well, summer, all, i, did, was, rest, okay, a...   \n",
       "4     [i'm, makin', a, change, today, the, liquor, b...   \n",
       "...                                                 ...   \n",
       "3970  [dame, was, like, yo, you, got, a, deal, with,...   \n",
       "3971  [then, one, day, i, just, went, ahead, and, pl...   \n",
       "3972         [i, ain't, gonna, front, it's, kinda, hot]   \n",
       "3973  [like, they, still, weren't, looking, at, me, ...   \n",
       "3974  [you, gotta, be, under, an, umbrella, you'll, ...   \n",
       "\n",
       "                                                  embed  \n",
       "0     [[0.28398263, 0.83930105, -0.4780515, -0.24111...  \n",
       "1     [[0.22425504, -0.20273875, -0.7999428, 0.30299...  \n",
       "2     [[0.00035037598, 0.63717, -0.2789135, 0.676622...  \n",
       "3     [[0.10517484, 0.45802763, -0.38076177, 0.22243...  \n",
       "4     [[0.22425504, -0.20273875, -0.7999428, 0.30299...  \n",
       "...                                                 ...  \n",
       "3970  [[0.012382422, 0.07412076, 0.017790478, 0.0432...  \n",
       "3971  [[-0.026468778, 0.27968934, -0.17910102, 0.086...  \n",
       "3972  [[0.00035037598, 0.63717, -0.2789135, 0.676622...  \n",
       "3973  [[0.12370775, 0.25256673, 0.03595994, 0.050488...  \n",
       "3974  [[0.22821628, 0.41886184, -0.6214825, 0.633893...  \n",
       "\n",
       "[3040 rows x 5 columns]"
      ]
     },
     "execution_count": 98,
     "metadata": {},
     "output_type": "execute_result"
    }
   ],
   "source": [
    "data"
   ]
  },
  {
   "cell_type": "code",
   "execution_count": 99,
   "metadata": {
    "ExecuteTime": {
     "end_time": "2021-06-29T10:51:54.129969Z",
     "start_time": "2021-06-29T10:51:54.123442Z"
    }
   },
   "outputs": [],
   "source": [
    "# Check \n",
    "assert len(data['embed']) == len(data)"
   ]
  },
  {
   "cell_type": "code",
   "execution_count": null,
   "metadata": {},
   "outputs": [],
   "source": []
  },
  {
   "cell_type": "markdown",
   "metadata": {},
   "source": [
    "### 3.2 Create (X,y)"
   ]
  },
  {
   "cell_type": "markdown",
   "metadata": {},
   "source": [
    "❓ **Create your numpy array `X` of shape (number_of_verses, 300, 100)**\n",
    "\n",
    "- 300 words per verse (pad verses shorter than 300 with zeros at the end) \n",
    "- each words being a vector of size 100\n",
    "\n",
    "<img src=\"https://raw.githubusercontent.com/lewagon/data-images/master/DL/padding.png\" width=400>"
   ]
  },
  {
   "cell_type": "code",
   "execution_count": 124,
   "metadata": {
    "ExecuteTime": {
     "end_time": "2021-06-29T11:12:36.005162Z",
     "start_time": "2021-06-29T11:12:35.579815Z"
    },
    "tags": [
     "challengify"
    ]
   },
   "outputs": [],
   "source": [
    "from tensorflow.keras.preprocessing.sequence import pad_sequences\n",
    "\n",
    "MASK_VALUE = -100\n",
    "\n",
    "X = pad_sequences(data.embed, dtype='float32', padding='post', \n",
    "           value=MASK_VALUE)\n",
    "\n",
    "# NB: using -100 instead of 0 as pad value to avoid confusion\n",
    "# NB:   maxlen not necessary as we cropped before already"
   ]
  },
  {
   "cell_type": "code",
   "execution_count": 125,
   "metadata": {
    "ExecuteTime": {
     "end_time": "2021-06-29T11:12:36.150409Z",
     "start_time": "2021-06-29T11:12:36.138299Z"
    }
   },
   "outputs": [
    {
     "data": {
      "text/plain": [
       "(3040, 299, 100)"
      ]
     },
     "execution_count": 125,
     "metadata": {},
     "output_type": "execute_result"
    }
   ],
   "source": [
    "X.shape"
   ]
  },
  {
   "cell_type": "markdown",
   "metadata": {},
   "source": [
    "❓ **Create the numpy array `y` of shape `(n_verses, 3)` that contains the one-hot-encoded list of labels, for the RNN**"
   ]
  },
  {
   "cell_type": "code",
   "execution_count": 108,
   "metadata": {
    "ExecuteTime": {
     "end_time": "2021-06-29T11:00:59.904362Z",
     "start_time": "2021-06-29T11:00:59.893415Z"
    },
    "tags": [
     "challengify"
    ]
   },
   "outputs": [
    {
     "data": {
      "text/plain": [
       "(array([0, 0, 0, ..., 2, 2, 2]),\n",
       " array(['Drake', 'Ed Sheeran', 'Kanye West'], dtype=object))"
      ]
     },
     "execution_count": 108,
     "metadata": {},
     "output_type": "execute_result"
    }
   ],
   "source": [
    "from tensorflow.keras.utils import to_categorical\n",
    "from sklearn.preprocessing import LabelEncoder\n",
    "\n",
    "label_encoder = LabelEncoder()\n",
    "\n",
    "vec = label_encoder.fit_transform(data['artist'])\n",
    "\n",
    "vec, label_encoder.classes_"
   ]
  },
  {
   "cell_type": "code",
   "execution_count": 110,
   "metadata": {
    "ExecuteTime": {
     "end_time": "2021-06-29T11:01:42.346558Z",
     "start_time": "2021-06-29T11:01:42.342048Z"
    }
   },
   "outputs": [],
   "source": [
    "y = to_categorical(vec)"
   ]
  },
  {
   "cell_type": "code",
   "execution_count": 116,
   "metadata": {
    "ExecuteTime": {
     "end_time": "2021-06-29T11:03:08.098004Z",
     "start_time": "2021-06-29T11:03:08.091784Z"
    }
   },
   "outputs": [
    {
     "data": {
      "text/plain": [
       "(3040, 3)"
      ]
     },
     "execution_count": 116,
     "metadata": {},
     "output_type": "execute_result"
    }
   ],
   "source": [
    "y.shape"
   ]
  },
  {
   "cell_type": "markdown",
   "metadata": {},
   "source": [
    "👉 We train/test split the dataset below for you"
   ]
  },
  {
   "cell_type": "code",
   "execution_count": 126,
   "metadata": {
    "ExecuteTime": {
     "end_time": "2021-06-29T11:12:44.325855Z",
     "start_time": "2021-06-29T11:12:44.051312Z"
    }
   },
   "outputs": [],
   "source": [
    "from sklearn.model_selection import train_test_split\n",
    "\n",
    "X_train, X_test, y_train, y_test = train_test_split(X, y, test_size=0.2)"
   ]
  },
  {
   "cell_type": "code",
   "execution_count": 127,
   "metadata": {
    "ExecuteTime": {
     "end_time": "2021-06-29T11:12:48.557316Z",
     "start_time": "2021-06-29T11:12:48.348206Z"
    }
   },
   "outputs": [],
   "source": [
    "from nbresult import ChallengeResult\n",
    "result = ChallengeResult(\n",
    "    'data_preprocessing',\n",
    "    n_zeros = np.sum(X == 0),\n",
    "    X_shape = X.shape,\n",
    "    y_shape = y.shape,\n",
    ")\n",
    "\n",
    "result.write()"
   ]
  },
  {
   "cell_type": "markdown",
   "metadata": {},
   "source": [
    "## 4. Recurrent Neural Network"
   ]
  },
  {
   "cell_type": "markdown",
   "metadata": {},
   "source": [
    "👉 Run this code below if you haven't managed to build your own (X,Y) training sets. This will load them as solution\n",
    "\n",
    "```python\n",
    "! wget \\\n",
    "'https://wagon-public-datasets.s3.amazonaws.com/certification_france_2021_q2/data_lyrics_solution.pickle'\n",
    "\n",
    "import pickle\n",
    "with open(\"data_lyrics_solution.pickle\", \"rb\") as file:\n",
    "    (X_train, y_train, X_test, y_test) = pickle.load(file)\n",
    "    \n",
    "! rm data_lyrics_solution.pickle\n",
    "```"
   ]
  },
  {
   "cell_type": "markdown",
   "metadata": {},
   "source": [
    "❓ **First, store your baseline accuracy to beat as `score_baseline`**\n",
    "- Consider predicting always the most frequent artist"
   ]
  },
  {
   "cell_type": "code",
   "execution_count": 177,
   "metadata": {
    "ExecuteTime": {
     "end_time": "2021-06-29T12:39:34.446775Z",
     "start_time": "2021-06-29T12:39:34.155245Z"
    }
   },
   "outputs": [
    {
     "data": {
      "text/plain": [
       "<seaborn.axisgrid.FacetGrid at 0x15a416f70>"
      ]
     },
     "execution_count": 177,
     "metadata": {},
     "output_type": "execute_result"
    },
    {
     "data": {
      "image/png": "[encoded data removed]",
      "text/plain": [
       "<Figure size 360x360 with 1 Axes>"
      ]
     },
     "metadata": {
      "needs_background": "light"
     },
     "output_type": "display_data"
    }
   ],
   "source": [
    "sns.displot(data.artist)\n",
    "\n",
    "\n"
   ]
  },
  {
   "cell_type": "code",
   "execution_count": 155,
   "metadata": {
    "ExecuteTime": {
     "end_time": "2021-06-29T12:32:21.238600Z",
     "start_time": "2021-06-29T12:32:21.232937Z"
    }
   },
   "outputs": [
    {
     "data": {
      "text/plain": [
       "array([[1., 0., 0.],\n",
       "       [0., 1., 0.],\n",
       "       [1., 0., 0.],\n",
       "       ...,\n",
       "       [0., 1., 0.],\n",
       "       [0., 1., 0.],\n",
       "       [0., 0., 1.]], dtype=float32)"
      ]
     },
     "execution_count": 155,
     "metadata": {},
     "output_type": "execute_result"
    }
   ],
   "source": [
    "y_train"
   ]
  },
  {
   "cell_type": "code",
   "execution_count": 174,
   "metadata": {
    "ExecuteTime": {
     "end_time": "2021-06-29T12:38:55.939194Z",
     "start_time": "2021-06-29T12:38:55.933477Z"
    }
   },
   "outputs": [],
   "source": [
    "\n",
    "from sklearn.dummy import DummyClassifier\n",
    "\n",
    "dummy_clf = DummyClassifier(strategy='most_frequent')\n",
    "\n",
    "y_train_dummy = y_train.argmax(axis=1)\n",
    "y_test_dummy = y_test.argmax(axis=1)"
   ]
  },
  {
   "cell_type": "code",
   "execution_count": 175,
   "metadata": {
    "ExecuteTime": {
     "end_time": "2021-06-29T12:38:56.588920Z",
     "start_time": "2021-06-29T12:38:56.582357Z"
    }
   },
   "outputs": [
    {
     "data": {
      "text/plain": [
       "array([0, 1, 0, ..., 1, 1, 2])"
      ]
     },
     "execution_count": 175,
     "metadata": {},
     "output_type": "execute_result"
    }
   ],
   "source": [
    "y_train_dummy"
   ]
  },
  {
   "cell_type": "code",
   "execution_count": 176,
   "metadata": {
    "ExecuteTime": {
     "end_time": "2021-06-29T12:38:57.486398Z",
     "start_time": "2021-06-29T12:38:57.477128Z"
    }
   },
   "outputs": [
    {
     "data": {
      "text/plain": [
       "0.47368421052631576"
      ]
     },
     "execution_count": 176,
     "metadata": {},
     "output_type": "execute_result"
    }
   ],
   "source": [
    "dummy_clf.fit(X_train, y_train_dummy)\n",
    "\n",
    "dummy_clf.score(X_test, y_test_dummy)\n",
    "\n",
    "#dummy_clf.score(X_test, y_test)"
   ]
  },
  {
   "cell_type": "code",
   "execution_count": 178,
   "metadata": {
    "ExecuteTime": {
     "end_time": "2021-06-29T12:40:04.827386Z",
     "start_time": "2021-06-29T12:40:04.817863Z"
    },
    "tags": [
     "challengify"
    ]
   },
   "outputs": [
    {
     "data": {
      "text/plain": [
       "0.47368421052631576"
      ]
     },
     "execution_count": 178,
     "metadata": {},
     "output_type": "execute_result"
    }
   ],
   "source": [
    "score_baseline = dummy_clf.score(X_test, y_test_dummy)\n",
    "score_baseline"
   ]
  },
  {
   "cell_type": "markdown",
   "metadata": {},
   "source": [
    "❓ **Create a RNN architecture to predict the artists `y`  given verses `X`** :\n",
    "\n",
    "- Keep it simple: use only one LSTM layer and one *hidden* dense layer between the input and output layers\n",
    "- Don't forget to take care of fake \"zeros\" added during preprocessing\n",
    "- Store it into the `model` variable."
   ]
  },
  {
   "cell_type": "code",
   "execution_count": 145,
   "metadata": {
    "ExecuteTime": {
     "end_time": "2021-06-29T11:33:39.097793Z",
     "start_time": "2021-06-29T11:33:39.068766Z"
    },
    "tags": [
     "challengify"
    ]
   },
   "outputs": [],
   "source": [
    "from tensorflow.keras import models, layers\n",
    "\n",
    "def init_model():\n",
    "    model = models.Sequential()\n",
    "    \n",
    "    # Layer de masking:\n",
    "    model.add(layers.Masking(mask_value=MASK_VALUE)) \n",
    "    \n",
    "    model.add(layers.LSTM(units=20, activation='tanh'))#, input_shape=(299,100)))\n",
    "    model.add(layers.Dropout(0.3))\n",
    "    \n",
    "    model.add(layers.Dense(15, activation='relu'))\n",
    "    model.add(layers.Dropout(0.3))\n",
    "    \n",
    "    model.add(layers.Dense(3, activation='softmax'))\n",
    "    \n",
    "    model.compile(loss='categorical_crossentropy', optimizer='rmsprop', metrics=['accuracy'])\n",
    "    \n",
    "    return model\n",
    "\n",
    "model = init_model()\n",
    "\n",
    "# The model was terribly overfitting, adding dropout layers\n"
   ]
  },
  {
   "cell_type": "markdown",
   "metadata": {},
   "source": [
    "❓ **Train your `model` on the `(X_train, y_train)` training set**\n",
    "- Use an appropriate loss\n",
    "- Adapt the learning rate of your optimizer if convergence is too slow/fast\n",
    "- Make sure your model does not overfit with appropriate control techniques\n",
    "\n",
    "💡 You will not be judged by the computing power of your computer, you can reach decent performance in less than 3 minutes of training without GPUs."
   ]
  },
  {
   "cell_type": "code",
   "execution_count": 146,
   "metadata": {
    "ExecuteTime": {
     "end_time": "2021-06-29T11:51:39.200482Z",
     "start_time": "2021-06-29T11:34:04.711108Z"
    },
    "collapsed": true,
    "tags": [
     "challengify"
    ]
   },
   "outputs": [
    {
     "name": "stdout",
     "output_type": "stream",
     "text": [
      "Epoch 1/500\n",
      "107/107 - 26s - loss: 1.0798 - accuracy: 0.4242 - val_loss: 1.0617 - val_accuracy: 0.4548\n",
      "Epoch 2/500\n",
      "107/107 - 20s - loss: 1.0728 - accuracy: 0.4548 - val_loss: 1.0557 - val_accuracy: 0.4562\n",
      "Epoch 3/500\n",
      "107/107 - 21s - loss: 1.0595 - accuracy: 0.4542 - val_loss: 1.0483 - val_accuracy: 0.4603\n",
      "Epoch 4/500\n",
      "107/107 - 20s - loss: 1.0508 - accuracy: 0.4589 - val_loss: 1.0331 - val_accuracy: 0.4630\n",
      "Epoch 5/500\n",
      "107/107 - 18s - loss: 1.0312 - accuracy: 0.4818 - val_loss: 1.0219 - val_accuracy: 0.4671\n",
      "Epoch 6/500\n",
      "107/107 - 21s - loss: 1.0244 - accuracy: 0.4882 - val_loss: 0.9879 - val_accuracy: 0.5137\n",
      "Epoch 7/500\n",
      "107/107 - 18s - loss: 1.0069 - accuracy: 0.5135 - val_loss: 1.0027 - val_accuracy: 0.5027\n",
      "Epoch 8/500\n",
      "107/107 - 18s - loss: 0.9833 - accuracy: 0.5253 - val_loss: 0.9807 - val_accuracy: 0.5027\n",
      "Epoch 9/500\n",
      "107/107 - 19s - loss: 0.9736 - accuracy: 0.5376 - val_loss: 0.9609 - val_accuracy: 0.5384\n",
      "Epoch 10/500\n",
      "107/107 - 27s - loss: 0.9642 - accuracy: 0.5382 - val_loss: 0.9814 - val_accuracy: 0.5219\n",
      "Epoch 11/500\n",
      "107/107 - 21s - loss: 0.9711 - accuracy: 0.5470 - val_loss: 0.9663 - val_accuracy: 0.5384\n",
      "Epoch 12/500\n",
      "107/107 - 19s - loss: 0.9610 - accuracy: 0.5482 - val_loss: 0.9510 - val_accuracy: 0.5493\n",
      "Epoch 13/500\n",
      "107/107 - 20s - loss: 0.9381 - accuracy: 0.5593 - val_loss: 0.9511 - val_accuracy: 0.5397\n",
      "Epoch 14/500\n",
      "107/107 - 19s - loss: 0.9339 - accuracy: 0.5658 - val_loss: 0.9372 - val_accuracy: 0.5630\n",
      "Epoch 15/500\n",
      "107/107 - 18s - loss: 0.9228 - accuracy: 0.5705 - val_loss: 0.9268 - val_accuracy: 0.5616\n",
      "Epoch 16/500\n",
      "107/107 - 19s - loss: 0.9353 - accuracy: 0.5640 - val_loss: 1.0815 - val_accuracy: 0.4767\n",
      "Epoch 17/500\n",
      "107/107 - 18s - loss: 0.9248 - accuracy: 0.5734 - val_loss: 1.0003 - val_accuracy: 0.5178\n",
      "Epoch 18/500\n",
      "107/107 - 18s - loss: 0.9160 - accuracy: 0.5699 - val_loss: 0.9234 - val_accuracy: 0.5630\n",
      "Epoch 19/500\n",
      "107/107 - 18s - loss: 0.9183 - accuracy: 0.5605 - val_loss: 0.9210 - val_accuracy: 0.5726\n",
      "Epoch 20/500\n",
      "107/107 - 24s - loss: 0.9049 - accuracy: 0.5687 - val_loss: 0.9229 - val_accuracy: 0.5658\n",
      "Epoch 21/500\n",
      "107/107 - 22s - loss: 0.8926 - accuracy: 0.5934 - val_loss: 0.9435 - val_accuracy: 0.5397\n",
      "Epoch 22/500\n",
      "107/107 - 30s - loss: 0.8821 - accuracy: 0.5864 - val_loss: 0.9295 - val_accuracy: 0.5699\n",
      "Epoch 23/500\n",
      "107/107 - 25s - loss: 0.8945 - accuracy: 0.6011 - val_loss: 0.9159 - val_accuracy: 0.5795\n",
      "Epoch 24/500\n",
      "107/107 - 27s - loss: 0.8958 - accuracy: 0.5864 - val_loss: 0.9164 - val_accuracy: 0.5671\n",
      "Epoch 25/500\n",
      "107/107 - 23s - loss: 0.8730 - accuracy: 0.5934 - val_loss: 0.9410 - val_accuracy: 0.5438\n",
      "Epoch 26/500\n",
      "107/107 - 26s - loss: 0.8627 - accuracy: 0.5958 - val_loss: 0.9963 - val_accuracy: 0.5260\n",
      "Epoch 27/500\n",
      "107/107 - 21s - loss: 0.8693 - accuracy: 0.6069 - val_loss: 0.8857 - val_accuracy: 0.5712\n",
      "Epoch 28/500\n",
      "107/107 - 20s - loss: 0.8539 - accuracy: 0.6028 - val_loss: 0.8930 - val_accuracy: 0.5836\n",
      "Epoch 29/500\n",
      "107/107 - 19s - loss: 0.8420 - accuracy: 0.6022 - val_loss: 0.8918 - val_accuracy: 0.5781\n",
      "Epoch 30/500\n",
      "107/107 - 21s - loss: 0.8498 - accuracy: 0.6251 - val_loss: 0.8839 - val_accuracy: 0.5849\n",
      "Epoch 31/500\n",
      "107/107 - 19s - loss: 0.8340 - accuracy: 0.6152 - val_loss: 0.9337 - val_accuracy: 0.5863\n",
      "Epoch 32/500\n",
      "107/107 - 19s - loss: 0.8375 - accuracy: 0.6122 - val_loss: 0.8994 - val_accuracy: 0.5904\n",
      "Epoch 33/500\n",
      "107/107 - 18s - loss: 0.8345 - accuracy: 0.6069 - val_loss: 1.0435 - val_accuracy: 0.5493\n",
      "Epoch 34/500\n",
      "107/107 - 18s - loss: 0.8418 - accuracy: 0.6093 - val_loss: 0.9767 - val_accuracy: 0.5329\n",
      "Epoch 35/500\n",
      "107/107 - 21s - loss: 0.8337 - accuracy: 0.6093 - val_loss: 0.9294 - val_accuracy: 0.5849\n",
      "Epoch 36/500\n",
      "107/107 - 21s - loss: 0.8282 - accuracy: 0.6175 - val_loss: 0.8898 - val_accuracy: 0.5863\n",
      "Epoch 37/500\n",
      "107/107 - 21s - loss: 0.8153 - accuracy: 0.6287 - val_loss: 0.8673 - val_accuracy: 0.6096\n",
      "Epoch 38/500\n",
      "107/107 - 20s - loss: 0.8114 - accuracy: 0.6298 - val_loss: 0.8988 - val_accuracy: 0.5986\n",
      "Epoch 39/500\n",
      "107/107 - 17s - loss: 0.8234 - accuracy: 0.6181 - val_loss: 0.8985 - val_accuracy: 0.5877\n",
      "Epoch 40/500\n",
      "107/107 - 19s - loss: 0.7925 - accuracy: 0.6469 - val_loss: 0.8820 - val_accuracy: 0.5904\n",
      "Epoch 41/500\n",
      "107/107 - 19s - loss: 0.7792 - accuracy: 0.6387 - val_loss: 0.9142 - val_accuracy: 0.5945\n",
      "Epoch 42/500\n",
      "107/107 - 18s - loss: 0.7862 - accuracy: 0.6334 - val_loss: 0.9133 - val_accuracy: 0.5726\n",
      "Epoch 43/500\n",
      "107/107 - 19s - loss: 0.7887 - accuracy: 0.6398 - val_loss: 0.8864 - val_accuracy: 0.6027\n",
      "Epoch 44/500\n",
      "107/107 - 19s - loss: 0.7746 - accuracy: 0.6481 - val_loss: 0.9080 - val_accuracy: 0.6137\n",
      "Epoch 45/500\n",
      "107/107 - 19s - loss: 0.7685 - accuracy: 0.6486 - val_loss: 0.9041 - val_accuracy: 0.5890\n",
      "Epoch 46/500\n",
      "107/107 - 18s - loss: 0.7814 - accuracy: 0.6410 - val_loss: 0.9616 - val_accuracy: 0.5781\n",
      "Epoch 47/500\n",
      "107/107 - 18s - loss: 0.7573 - accuracy: 0.6486 - val_loss: 0.9048 - val_accuracy: 0.5986\n",
      "Epoch 48/500\n",
      "107/107 - 18s - loss: 0.7686 - accuracy: 0.6510 - val_loss: 0.9052 - val_accuracy: 0.5795\n",
      "Epoch 49/500\n",
      "107/107 - 19s - loss: 0.7540 - accuracy: 0.6428 - val_loss: 0.9107 - val_accuracy: 0.5890\n",
      "Epoch 50/500\n",
      "107/107 - 18s - loss: 0.7592 - accuracy: 0.6486 - val_loss: 0.9081 - val_accuracy: 0.5795\n",
      "Epoch 51/500\n",
      "107/107 - 19s - loss: 0.7441 - accuracy: 0.6516 - val_loss: 0.9017 - val_accuracy: 0.5890\n",
      "Epoch 52/500\n",
      "107/107 - 20s - loss: 0.7554 - accuracy: 0.6575 - val_loss: 0.9304 - val_accuracy: 0.5877\n"
     ]
    }
   ],
   "source": [
    "from tensorflow.keras.callbacks import EarlyStopping\n",
    "es = EarlyStopping(patience=15, restore_best_weights=True)\n",
    "\n",
    "history = model.fit(X_train, y_train,\n",
    "         batch_size=16,\n",
    "         epochs=500, verbose=2,\n",
    "         validation_split=0.3,\n",
    "         callbacks=[es])"
   ]
  },
  {
   "cell_type": "markdown",
   "metadata": {},
   "source": [
    "❓ **Plot the training and validation losses through training**"
   ]
  },
  {
   "cell_type": "code",
   "execution_count": null,
   "metadata": {
    "ExecuteTime": {
     "end_time": "2021-06-29T11:16:44.935908Z",
     "start_time": "2021-06-29T11:16:44.894080Z"
    }
   },
   "outputs": [],
   "source": [
    "def plot_loss_accuracy(history, title=None):\n",
    "    fig, ax = plt.subplots(1,2, figsize=(13,5))\n",
    "    ax[0].plot(history.history['loss'])\n",
    "    ax[0].plot(history.history['val_loss'])\n",
    "    ax[0].set_title('Model loss')\n",
    "    ax[0].set_ylabel('Loss')\n",
    "    ax[0].set_xlabel('Epoch')\n",
    "    ax[0].set_ylim((0,3))\n",
    "    ax[0].legend(['Train', 'Test'], loc='best')\n",
    "    \n",
    "    ax[1].plot(history.history['accuracy'])\n",
    "    ax[1].plot(history.history['val_accuracy'])\n",
    "    ax[1].set_title('Model Accuracy')\n",
    "    ax[1].set_ylabel('Accuracy')\n",
    "    ax[1].set_xlabel('Epoch')\n",
    "    ax[1].legend(['Train', 'Test'], loc='best')\n",
    "    ax[1].set_ylim((0,1))\n",
    "    if title:\n",
    "        fig.suptitle(title)"
   ]
  },
  {
   "cell_type": "code",
   "execution_count": 147,
   "metadata": {
    "ExecuteTime": {
     "end_time": "2021-06-29T11:53:10.505938Z",
     "start_time": "2021-06-29T11:53:10.101719Z"
    }
   },
   "outputs": [
    {
     "data": {
      "image/png": "[encoded data removed]",
      "text/plain": [
       "<Figure size 936x360 with 2 Axes>"
      ]
     },
     "metadata": {
      "needs_background": "light"
     },
     "output_type": "display_data"
    }
   ],
   "source": [
    "plot_loss_accuracy(history)"
   ]
  },
  {
   "cell_type": "code",
   "execution_count": 130,
   "metadata": {
    "ExecuteTime": {
     "end_time": "2021-06-29T11:16:44.935908Z",
     "start_time": "2021-06-29T11:16:44.894080Z"
    }
   },
   "outputs": [
    {
     "data": {
      "text/plain": [
       "<Figure size 432x288 with 0 Axes>"
      ]
     },
     "metadata": {},
     "output_type": "display_data"
    }
   ],
   "source": [
    "# Run also this code to save figure as jpg in path below (it's your job to ensure it works)\n",
    "fig = plt.gcf()\n",
    "plt.savefig(\"tests/history.png\")"
   ]
  },
  {
   "cell_type": "markdown",
   "metadata": {},
   "source": [
    "---\n",
    "\n",
    "## trying to better the model\n",
    "\n"
   ]
  },
  {
   "cell_type": "code",
   "execution_count": null,
   "metadata": {
    "ExecuteTime": {
     "start_time": "2021-06-29T13:54:45.193Z"
    }
   },
   "outputs": [
    {
     "name": "stdout",
     "output_type": "stream",
     "text": [
      "Epoch 1/500\n"
     ]
    }
   ],
   "source": [
    "from tensorflow.keras import models, layers\n",
    "\n",
    "# more units in teh LSTM layer\n",
    "\n",
    "def init_model():\n",
    "    model = models.Sequential()\n",
    "    \n",
    "    # Layer de masking:\n",
    "    model.add(layers.Masking(mask_value=MASK_VALUE)) \n",
    "    \n",
    "    model.add(layers.LSTM(units=60, activation='tanh'))#, input_shape=(299,100)))\n",
    "    model.add(layers.Dropout(0.1))\n",
    "\n",
    "    model.add(layers.Dense(60, activation='relu'))\n",
    "    model.add(layers.Dropout(0.1))\n",
    "    \n",
    "    model.add(layers.Dense(3, activation='softmax'))\n",
    "    \n",
    "    model.compile(loss='categorical_crossentropy', optimizer='rmsprop', metrics=['accuracy'])\n",
    "    \n",
    "    return model\n",
    "\n",
    "model = init_model()\n",
    "\n",
    "\n",
    "from tensorflow.keras.callbacks import EarlyStopping\n",
    "es = EarlyStopping(patience=15, restore_best_weights=True)\n",
    "\n",
    "history = model.fit(X_train, y_train,\n",
    "         batch_size=8,\n",
    "         epochs=500, verbose=2,\n",
    "         validation_split=0.3,\n",
    "         callbacks=[es])"
   ]
  },
  {
   "cell_type": "code",
   "execution_count": 182,
   "metadata": {
    "ExecuteTime": {
     "end_time": "2021-06-29T13:38:54.304186Z",
     "start_time": "2021-06-29T13:38:53.873646Z"
    }
   },
   "outputs": [
    {
     "data": {
      "image/png": "[encoded data removed]",
      "text/plain": [
       "<Figure size 936x360 with 2 Axes>"
      ]
     },
     "metadata": {
      "needs_background": "light"
     },
     "output_type": "display_data"
    }
   ],
   "source": [
    "plot_loss_accuracy(history)"
   ]
  },
  {
   "cell_type": "code",
   "execution_count": null,
   "metadata": {},
   "outputs": [],
   "source": []
  },
  {
   "cell_type": "markdown",
   "metadata": {},
   "source": [
    "❓ **Save your accuracy on test set as `score_test`**"
   ]
  },
  {
   "cell_type": "code",
   "execution_count": 40,
   "metadata": {
    "ExecuteTime": {
     "end_time": "2021-06-25T17:29:15.350717Z",
     "start_time": "2021-06-25T17:29:14.925473Z"
    },
    "tags": [
     "challengify"
    ]
   },
   "outputs": [],
   "source": [
    "score_test = model.ev()"
   ]
  },
  {
   "cell_type": "markdown",
   "metadata": {},
   "source": [
    "🧪 **Send your results below**"
   ]
  },
  {
   "cell_type": "code",
   "execution_count": 33,
   "metadata": {
    "ExecuteTime": {
     "end_time": "2021-06-25T17:25:11.216908Z",
     "start_time": "2021-06-25T17:25:11.208773Z"
    }
   },
   "outputs": [],
   "source": [
    "from nbresult import ChallengeResult\n",
    "\n",
    "result = ChallengeResult(\n",
    "    \"network\",\n",
    "    loss = model.loss,\n",
    "    input_shape = list(model.input.shape),\n",
    "    layer_names = [layer.name for layer in model.layers],\n",
    "    final_activation = model.layers[-1].activation.__wrapped__._keras_api_names[0],\n",
    "    score_baseline = score_baseline,\n",
    "    score_test = score_test,\n",
    ")\n",
    "result.write()"
   ]
  },
  {
   "cell_type": "code",
   "execution_count": null,
   "metadata": {},
   "outputs": [],
   "source": []
  }
 ],
 "metadata": {
  "kernelspec": {
   "display_name": "Python 3",
   "language": "python",
   "name": "python3"
  },
  "language_info": {
   "codemirror_mode": {
    "name": "ipython",
    "version": 3
   },
   "file_extension": ".py",
   "mimetype": "text/x-python",
   "name": "python",
   "nbconvert_exporter": "python",
   "pygments_lexer": "ipython3",
   "version": "3.8.5"
  },
  "toc": {
   "base_numbering": 1,
   "nav_menu": {},
   "number_sections": false,
   "sideBar": true,
   "skip_h1_title": false,
   "title_cell": "Table of Contents",
   "title_sidebar": "Contents",
   "toc_cell": false,
   "toc_position": {
    "height": "calc(100% - 180px)",
    "left": "10px",
    "top": "150px",
    "width": "330.513px"
   },
   "toc_section_display": true,
   "toc_window_display": true
  }
 },
 "nbformat": 4,
 "nbformat_minor": 2
}
